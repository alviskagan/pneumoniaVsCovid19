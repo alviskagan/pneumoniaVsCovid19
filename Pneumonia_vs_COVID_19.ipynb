{
  "nbformat": 4,
  "nbformat_minor": 0,
  "metadata": {
    "colab": {
      "name": "Pneumonia vs COVID-19.ipynb",
      "provenance": [],
      "authorship_tag": "ABX9TyNkQXFJYskZgb8hd0yGGMHH",
      "include_colab_link": true
    },
    "kernelspec": {
      "name": "python3",
      "display_name": "Python 3"
    }
  },
  "cells": [
    {
      "cell_type": "markdown",
      "metadata": {
        "id": "view-in-github",
        "colab_type": "text"
      },
      "source": [
        "<a href=\"https://colab.research.google.com/github/yopiazani02/pneumoniaVsCovid19/blob/master/Pneumonia_vs_COVID_19.ipynb\" target=\"_parent\"><img src=\"https://colab.research.google.com/assets/colab-badge.svg\" alt=\"Open In Colab\"/></a>"
      ]
    },
    {
      "cell_type": "markdown",
      "metadata": {
        "id": "vmmjnCn-PhWw",
        "colab_type": "text"
      },
      "source": [
        "Pneumonia (virus) vs COVID-19"
      ]
    },
    {
      "cell_type": "code",
      "metadata": {
        "id": "mG2Wp1tXM6Ga",
        "colab_type": "code",
        "colab": {}
      },
      "source": [
        ""
      ],
      "execution_count": 0,
      "outputs": []
    }
  ]
}